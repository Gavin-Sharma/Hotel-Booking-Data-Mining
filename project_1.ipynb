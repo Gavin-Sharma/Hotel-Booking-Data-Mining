{
 "cells": [
  {
   "attachments": {},
   "cell_type": "markdown",
   "metadata": {},
   "source": [
    "<h1>Welcome to Project 1</h1>\n",
    "<h3>By: Gavin Sharma, Ravi Walberg</h3>"
   ]
  },
  {
   "attachments": {},
   "cell_type": "markdown",
   "metadata": {},
   "source": [
    "<h5><u>Tasks</u></h5>\n",
    "\n",
    "<ol>\n",
    "    <li>OVERVIEW ON DATASET</li>\n",
    "        <ul>\n",
    "            <li>talk about the data and columns</li>\n",
    "        </ul>\n",
    "    <li>TABLEAU</li>\n",
    "        <ul>\n",
    "            <li>clean dataset</li>\n",
    "            <li></li>\n",
    "            <li></li>\n",
    "            <li></li>\n",
    "            <li></li>\n",
    "            <li></li>\n",
    "        </ul>\n",
    "    <li>PYTHON</li>\n",
    "        <ul>\n",
    "            <li>clean dataset</li>\n",
    "            <li>overview on dataset stats</li>\n",
    "            <li>which hotel make more revenue? (1)</li>\n",
    "            <li>Which hotel has longer waiting time? (1)</li>\n",
    "            <li>Which hotel have more cancellations? (1)</li>\n",
    "            <li></li>\n",
    "            <li></li>\n",
    "            <li></li>\n",
    "            <li></li>\n",
    "            <li></li>\n",
    "            <li></li>\n",
    "        </ul>\n",
    "</ol>\n",
    "\n",
    "<h5><u>Links</u></h5>\n",
    "\n",
    "<ol>\n",
    "    <li>https://www.kaggle.com/code/hemlatadixit/hotel-booking-analysis</li>\n",
    "    <li></li>\n",
    "    <li></li>\n",
    "</ol>"
   ]
  },
  {
   "attachments": {},
   "cell_type": "markdown",
   "metadata": {},
   "source": [
    "<h5>Data Cleaning</h5>"
   ]
  },
  {
   "cell_type": "code",
   "execution_count": null,
   "metadata": {},
   "outputs": [],
   "source": []
  }
 ],
 "metadata": {
  "kernelspec": {
   "display_name": "venv",
   "language": "python",
   "name": "python3"
  },
  "language_info": {
   "codemirror_mode": {
    "name": "ipython",
    "version": 3
   },
   "file_extension": ".py",
   "mimetype": "text/x-python",
   "name": "python",
   "nbconvert_exporter": "python",
   "pygments_lexer": "ipython3",
   "version": "3.8.0"
  },
  "orig_nbformat": 4,
  "vscode": {
   "interpreter": {
    "hash": "5cdbe0796194a9f0848c07b301181f6a0fbbfdb41d582951b71cf42c0f8a4053"
   }
  }
 },
 "nbformat": 4,
 "nbformat_minor": 2
}
