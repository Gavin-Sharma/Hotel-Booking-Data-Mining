{
 "cells": [
  {
   "attachments": {},
   "cell_type": "markdown",
   "metadata": {},
   "source": [
    "<h1>Welcome to Project 1</h1>\n",
    "<h3>By: Gavin Sharma, Ravi Walberg</h3>"
   ]
  },
  {
   "attachments": {},
   "cell_type": "markdown",
   "metadata": {},
   "source": [
    "<h5><u>Tasks</u></h5>\n",
    "\n",
    "<ol>\n",
    "    <li>OVERVIEW ON DATASET</li>\n",
    "        <ul>\n",
    "            <li>talk about the data and columns</li>\n",
    "        </ul>\n",
    "    <li>TABLEAU</li>\n",
    "        <ul>\n",
    "            <li>clean dataset</li>\n",
    "            <li></li>\n",
    "            <li></li>\n",
    "            <li></li>\n",
    "            <li></li>\n",
    "            <li></li>\n",
    "        </ul>\n",
    "    <li>PYTHON</li>\n",
    "        <ul>\n",
    "            <li>clean dataset</li>\n",
    "            <li>overview on dataset stats</li>\n",
    "            <li>which hotel make more revenue? (1)</li>\n",
    "            <li>Which hotel has longer waiting time? (1)</li>\n",
    "            <li>Which hotel have more cancellations? (1)</li>\n",
    "            <li></li>\n",
    "            <li></li>\n",
    "            <li></li>\n",
    "            <li></li>\n",
    "            <li></li>\n",
    "            <li></li>\n",
    "        </ul>\n",
    "</ol>\n",
    "\n",
    "<h5><u>Links</u></h5>\n",
    "\n",
    "<ol>\n",
    "    <li>https://www.kaggle.com/code/hemlatadixit/hotel-booking-analysis</li>\n",
    "    <li></li>\n",
    "    <li></li>\n",
    "</ol>"
   ]
  },
  {
   "attachments": {},
   "cell_type": "markdown",
   "metadata": {},
   "source": [
    "<h5>Data Cleaning</h5>"
   ]
  },
  {
   "cell_type": "code",
   "execution_count": 12,
   "metadata": {},
   "outputs": [
    {
     "data": {
      "text/plain": [
       "0"
      ]
     },
     "execution_count": 12,
     "metadata": {},
     "output_type": "execute_result"
    }
   ],
   "source": [
    "import numpy as np\n",
    "import matplotlib.pyplot as plt\n",
    "import pandas as pd \n",
    "\n",
    "# READ DATA\n",
    "df = pd.read_csv(\"./hotel_bookings.csv\")\n",
    "# df.info()\n",
    "\n",
    "# CLEAN DATA\n",
    "# check what data is missing\n",
    "# df.isnull().sum().sort_values(ascending=False)\n",
    "\n",
    "# because there is so much missing data from 'company',\n",
    "# we will remove them from the dataframe\n",
    "df = df.drop(['company'], axis=1)  \n",
    "\n",
    "# get the unique values from 'agent' column\n",
    "df['agent'].unique()\n",
    "# fill in the 'agent' missing data with the median\n",
    "df['agent'] = df['agent'].fillna(df['agent'].median())\n",
    "\n",
    "# fill in the missing data from 'country'\n",
    "df['country'] = df['country'].fillna(df['country'].mode()[0])\n",
    "\n",
    "# fill in the missing data from 'children'\n",
    "df['children'] = df['children'].fillna(df['children'].median())\n",
    "\n",
    "# recheck for any missing data\n",
    "df.isnull().sum().sum()"
   ]
  }
 ],
 "metadata": {
  "kernelspec": {
   "display_name": "venv",
   "language": "python",
   "name": "python3"
  },
  "language_info": {
   "codemirror_mode": {
    "name": "ipython",
    "version": 3
   },
   "file_extension": ".py",
   "mimetype": "text/x-python",
   "name": "python",
   "nbconvert_exporter": "python",
   "pygments_lexer": "ipython3",
   "version": "3.11.1"
  },
  "orig_nbformat": 4,
  "vscode": {
   "interpreter": {
    "hash": "b7aa822f6bc19b7508c3d57ceefa63cff691b7c0514bbd23a541b65a561b4229"
   }
  }
 },
 "nbformat": 4,
 "nbformat_minor": 2
}
